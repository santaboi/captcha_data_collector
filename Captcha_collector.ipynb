{
 "cells": [
  {
   "cell_type": "code",
   "execution_count": 1,
   "id": "9aceb138",
   "metadata": {},
   "outputs": [],
   "source": [
    "from selenium import webdriver\n",
    "from selenium.webdriver.support.wait import WebDriverWait\n",
    "from selenium.webdriver.support import expected_conditions as EC\n",
    "from selenium.webdriver.common.action_chains import ActionChains\n",
    "from selenium.webdriver.common.by import By\n",
    "from PIL import Image\n",
    "import time\n",
    "import urllib\n",
    "import os"
   ]
  },
  {
   "cell_type": "code",
   "execution_count": 2,
   "id": "ecb6c404",
   "metadata": {},
   "outputs": [],
   "source": [
    "data_path = 'pngDatas'\n",
    "\n",
    "PATH = \"C:\\Program Files (x86)\\chromedriver.exe\"\n",
    "browser = webdriver.Chrome(PATH)\n",
    "#data Url\n",
    "url = 'https://course.ncku.edu.tw/index.php?c=cos21352' \n",
    "browser.get(url)\n"
   ]
  },
  {
   "cell_type": "code",
   "execution_count": 3,
   "id": "375e05db",
   "metadata": {},
   "outputs": [],
   "source": [
    "'''\n",
    "button operation\n",
    "'''\n",
    "\n",
    "log_button = WebDriverWait(browser, 10).until(EC.presence_of_element_located((By.CLASS_NAME, \"fas.fa-sign-in-alt\")))\n",
    "log_button.click() #click1\n",
    "\n",
    "log_button = WebDriverWait(browser, 10).until(EC.presence_of_element_located((By.CLASS_NAME, \"btn.btn-default\")))\n",
    "log_button.click() #click for cheng kung portal"
   ]
  },
  {
   "cell_type": "code",
   "execution_count": 4,
   "id": "c9c46d28",
   "metadata": {},
   "outputs": [
    {
     "name": "stdout",
     "output_type": "stream",
     "text": [
      "inputing username and password...\n"
     ]
    }
   ],
   "source": [
    "'''\n",
    "entering password stuff\n",
    "'''\n",
    "\n",
    "print(\"inputing username and password...\") \n",
    "user_id = WebDriverWait(browser, 10).until(EC.presence_of_element_located((By.NAME, \"UserName\")))\n",
    "user_id.send_keys(\"E94081107\") #personal_ID : fill in yourself!!!!!!!!!!!!!\n",
    "password_input = WebDriverWait(browser, 10).until(EC.presence_of_element_located((By.NAME, \"Password\")))\n",
    "password_input.send_keys(\"jefferSon1225\") #personal_password : fill in yourself!!!!!!!!!!!!!!!!\n",
    "\n",
    "log_button = browser.find_element_by_id(\"submitButton\")\n",
    "log_button.click() #click for logging in"
   ]
  },
  {
   "cell_type": "code",
   "execution_count": 5,
   "id": "dbc623b3",
   "metadata": {},
   "outputs": [
    {
     "name": "stdout",
     "output_type": "stream",
     "text": [
      "repeated login is solved sueccefully\n"
     ]
    }
   ],
   "source": [
    "#成功入口重複登入\n",
    "query = None\n",
    "try :\n",
    "    #from selenium.webdriver.common.keys import Keys\n",
    "    # stall for 0.5 sec due to slow_Wifi and broken_CPU\n",
    "    time.sleep(0.5) \n",
    "    exception1 = browser.find_element_by_link_text(\"若不想等,想刪除之前的連線,請點我\")\n",
    "    if exception1 != None : \n",
    "        exception1.click() #click to force logging\n",
    "        print(\"repeated login is solved sueccefully\")\n",
    "except :\n",
    "    print(\"execution continues\")\n",
    "finally :\n",
    "    button = browser.find_elements_by_class_name(\"btn\")[1]\n",
    "    button.click()"
   ]
  },
  {
   "cell_type": "code",
   "execution_count": null,
   "id": "967e4b22",
   "metadata": {},
   "outputs": [],
   "source": []
  },
  {
   "cell_type": "code",
   "execution_count": null,
   "id": "bdc76121",
   "metadata": {},
   "outputs": [],
   "source": []
  },
  {
   "cell_type": "code",
   "execution_count": null,
   "id": "d1927a3e",
   "metadata": {},
   "outputs": [],
   "source": [
    "\n"
   ]
  }
 ],
 "metadata": {
  "kernelspec": {
   "display_name": "Python 3 (ipykernel)",
   "language": "python",
   "name": "python3"
  },
  "language_info": {
   "codemirror_mode": {
    "name": "ipython",
    "version": 3
   },
   "file_extension": ".py",
   "mimetype": "text/x-python",
   "name": "python",
   "nbconvert_exporter": "python",
   "pygments_lexer": "ipython3",
   "version": "3.9.6"
  }
 },
 "nbformat": 4,
 "nbformat_minor": 5
}
