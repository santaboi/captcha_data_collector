{
 "cells": [
  {
   "cell_type": "code",
   "execution_count": 1,
   "id": "77b30cbb",
   "metadata": {},
   "outputs": [],
   "source": [
    "from selenium import webdriver\n",
    "from selenium.webdriver.support.wait import WebDriverWait\n",
    "from selenium.webdriver.support import expected_conditions as EC\n",
    "from selenium.webdriver.common.action_chains import ActionChains\n",
    "from selenium.webdriver.common.by import By\n",
    "import time\n",
    "import os"
   ]
  },
  {
   "cell_type": "code",
   "execution_count": 2,
   "id": "e060de46",
   "metadata": {},
   "outputs": [],
   "source": [
    "data_path = 'pngDatas'\n",
    "\n",
    "PATH = \"C:\\Program Files (x86)\\chromedriver.exe\"\n",
    "browser = webdriver.Chrome(PATH)\n",
    "#data Url\n",
    "url = 'https://course.ncku.edu.tw/index.php?c=cos21352' \n",
    "browser.get(url)\n"
   ]
  },
  {
   "cell_type": "code",
   "execution_count": 3,
   "id": "40e7b32c",
   "metadata": {},
   "outputs": [],
   "source": [
    "'''\n",
    "button operation\n",
    "'''\n",
    "\n",
    "log_button = WebDriverWait(browser, 10).until(EC.presence_of_element_located((By.CLASS_NAME, \"fas.fa-sign-in-alt\")))\n",
    "log_button.click() #click1\n",
    "\n",
    "log_button = WebDriverWait(browser, 10).until(EC.presence_of_element_located((By.CLASS_NAME, \"btn.btn-default\")))\n",
    "log_button.click() #click for cheng kung portal"
   ]
  },
  {
   "cell_type": "code",
   "execution_count": 4,
   "id": "f762d4b3",
   "metadata": {},
   "outputs": [
    {
     "name": "stdout",
     "output_type": "stream",
     "text": [
      "inputing username and password...\n"
     ]
    }
   ],
   "source": [
    "'''\n",
    "entering password stuff\n",
    "'''\n",
    "\n",
    "print(\"inputing username and password...\") \n",
    "user_id = WebDriverWait(browser, 10).until(EC.presence_of_element_located((By.NAME, \"UserName\")))\n",
    "user_id.send_keys(\"E94081107\") #personal_ID : fill in yourself!!!!!!!!!!!!!\n",
    "password_input = WebDriverWait(browser, 10).until(EC.presence_of_element_located((By.NAME, \"Password\")))\n",
    "password_input.send_keys(\"jefferSon1225\") #personal_password : fill in yourself!!!!!!!!!!!!!!!!\n",
    "\n",
    "log_button = browser.find_element_by_id(\"submitButton\")\n",
    "log_button.click() #click for logging in"
   ]
  },
  {
   "cell_type": "code",
   "execution_count": 5,
   "id": "a7a67b21",
   "metadata": {},
   "outputs": [
    {
     "name": "stdout",
     "output_type": "stream",
     "text": [
      "repeated login is solved sueccefully\n"
     ]
    }
   ],
   "source": [
    "#成功入口重複登入\n",
    "query = None\n",
    "try :\n",
    "    #from selenium.webdriver.common.keys import Keys\n",
    "    # stall for 0.5 sec due to slow_Wifi and broken_CPU\n",
    "    time.sleep(0.5) \n",
    "    exception1 = browser.find_element_by_link_text(\"若不想等,想刪除之前的連線,請點我\")\n",
    "    if exception1 != None : \n",
    "        exception1.click() #click to force logging\n",
    "        print(\"repeated login is solved sueccefully\")\n",
    "except :\n",
    "    print(\"execution continues\")\n",
    "finally :\n",
    "    button = browser.find_elements_by_class_name(\"btn\")[1]\n",
    "    button.click()"
   ]
  },
  {
   "cell_type": "code",
   "execution_count": 6,
   "id": "39366f55",
   "metadata": {
    "scrolled": true
   },
   "outputs": [],
   "source": [
    "element_to_hover = browser.find_element_by_link_text(\"選課\")\n",
    "hover = ActionChains(browser).move_to_element(element_to_hover)\n",
    "hover.perform()\n",
    "browser.find_element_by_link_text(\"單科志願課程登記\").click()"
   ]
  },
  {
   "cell_type": "code",
   "execution_count": 7,
   "id": "94f4f777",
   "metadata": {},
   "outputs": [
    {
     "data": {
      "text/plain": [
       "'\\n#way 1\\n\\nimport urllib\\ncaptcha_ele = browser.find_element_by_class_name(\"click\")\\nlocal_path = \\'pngDatas\\'\\nfilename = \"captcha5.jpg\"\\ntry:\\ncaptcha = captcha_ele.get_attribute(\\'src\\')\\nprint(captcha)\\nif captcha != None :\\n    urllib.request.urlretrieve(captcha , os.path.join(local_path , filename))\\nexcept:\\n    print(\"errror\")\\n'"
      ]
     },
     "execution_count": 7,
     "metadata": {},
     "output_type": "execute_result"
    }
   ],
   "source": [
    "'''\n",
    "#way 1\n",
    "\n",
    "import urllib\n",
    "captcha_ele = browser.find_element_by_class_name(\"click\")\n",
    "local_path = 'pngDatas'\n",
    "filename = \"captcha5.jpg\"\n",
    "try:\n",
    "captcha = captcha_ele.get_attribute('src')\n",
    "print(captcha)\n",
    "if captcha != None :\n",
    "    urllib.request.urlretrieve(captcha , os.path.join(local_path , filename))\n",
    "except:\n",
    "    print(\"errror\")\n",
    "'''"
   ]
  },
  {
   "cell_type": "code",
   "execution_count": 8,
   "id": "17155d4a",
   "metadata": {},
   "outputs": [
    {
     "name": "stderr",
     "output_type": "stream",
     "text": [
      "c:\\python39\\lib\\site-packages\\urllib3\\connectionpool.py:1013: InsecureRequestWarning: Unverified HTTPS request is being made to host 'course.ncku.edu.tw'. Adding certificate verification is strongly advised. See: https://urllib3.readthedocs.io/en/1.26.x/advanced-usage.html#ssl-warnings\n",
      "  warnings.warn(\n",
      "c:\\python39\\lib\\site-packages\\urllib3\\connectionpool.py:1013: InsecureRequestWarning: Unverified HTTPS request is being made to host 'course.ncku.edu.tw'. Adding certificate verification is strongly advised. See: https://urllib3.readthedocs.io/en/1.26.x/advanced-usage.html#ssl-warnings\n",
      "  warnings.warn(\n"
     ]
    }
   ],
   "source": [
    "#way 2\n",
    "import requests\n",
    "import urllib\n",
    "filename = 'captcha0.png'\n",
    "captcha_ele = browser.find_element_by_class_name(\"click\")\n",
    "url = captcha_ele.get_attribute('src')\n",
    "\n",
    "\n",
    "with open(filename , 'wb') as f :\n",
    "    res = requests.get(url , headers = {\n",
    "        \"authority\": \"course.ncku.edu.tw\" , \n",
    "        \"user-agent\": \"Mozilla/5.0 (Windows NT 10.0; Win64; x64) AppleWebKit/537.36 (KHTML, like Gecko) Chrome/92.0.4515.159 Safari/537.36\" ,\n",
    "        \"content-type\": \"image/png\"\n",
    "        \n",
    "    }\n",
    "                     ,  verify=False)\n",
    "    f.write(res.content)\n",
    "    #f.save(os.path.join(local_path , filename))\n"
   ]
  },
  {
   "cell_type": "code",
   "execution_count": 9,
   "id": "4f2f0e8d",
   "metadata": {},
   "outputs": [
    {
     "ename": "UnidentifiedImageError",
     "evalue": "cannot identify image file 'captcha0.png'",
     "output_type": "error",
     "traceback": [
      "\u001b[1;31m---------------------------------------------------------------------------\u001b[0m",
      "\u001b[1;31mUnidentifiedImageError\u001b[0m                    Traceback (most recent call last)",
      "\u001b[1;32m~\\AppData\\Local\\Temp/ipykernel_18024/3690790509.py\u001b[0m in \u001b[0;36m<module>\u001b[1;34m\u001b[0m\n\u001b[0;32m      1\u001b[0m \u001b[1;32mfrom\u001b[0m \u001b[0mPIL\u001b[0m \u001b[1;32mimport\u001b[0m \u001b[0mImage\u001b[0m\u001b[1;33m\u001b[0m\u001b[1;33m\u001b[0m\u001b[0m\n\u001b[1;32m----> 2\u001b[1;33m \u001b[0mimage\u001b[0m \u001b[1;33m=\u001b[0m \u001b[0mImage\u001b[0m\u001b[1;33m.\u001b[0m\u001b[0mopen\u001b[0m\u001b[1;33m(\u001b[0m\u001b[0mfilename\u001b[0m\u001b[1;33m)\u001b[0m\u001b[1;33m\u001b[0m\u001b[1;33m\u001b[0m\u001b[0m\n\u001b[0m\u001b[0;32m      3\u001b[0m \u001b[0mimage\u001b[0m\u001b[1;33m\u001b[0m\u001b[1;33m\u001b[0m\u001b[0m\n",
      "\u001b[1;32mc:\\python39\\lib\\site-packages\\PIL\\Image.py\u001b[0m in \u001b[0;36mopen\u001b[1;34m(fp, mode, formats)\u001b[0m\n\u001b[0;32m   3021\u001b[0m     \u001b[1;32mfor\u001b[0m \u001b[0mmessage\u001b[0m \u001b[1;32min\u001b[0m \u001b[0maccept_warnings\u001b[0m\u001b[1;33m:\u001b[0m\u001b[1;33m\u001b[0m\u001b[1;33m\u001b[0m\u001b[0m\n\u001b[0;32m   3022\u001b[0m         \u001b[0mwarnings\u001b[0m\u001b[1;33m.\u001b[0m\u001b[0mwarn\u001b[0m\u001b[1;33m(\u001b[0m\u001b[0mmessage\u001b[0m\u001b[1;33m)\u001b[0m\u001b[1;33m\u001b[0m\u001b[1;33m\u001b[0m\u001b[0m\n\u001b[1;32m-> 3023\u001b[1;33m     raise UnidentifiedImageError(\n\u001b[0m\u001b[0;32m   3024\u001b[0m         \u001b[1;34m\"cannot identify image file %r\"\u001b[0m \u001b[1;33m%\u001b[0m \u001b[1;33m(\u001b[0m\u001b[0mfilename\u001b[0m \u001b[1;32mif\u001b[0m \u001b[0mfilename\u001b[0m \u001b[1;32melse\u001b[0m \u001b[0mfp\u001b[0m\u001b[1;33m)\u001b[0m\u001b[1;33m\u001b[0m\u001b[1;33m\u001b[0m\u001b[0m\n\u001b[0;32m   3025\u001b[0m     )\n",
      "\u001b[1;31mUnidentifiedImageError\u001b[0m: cannot identify image file 'captcha0.png'"
     ]
    }
   ],
   "source": [
    "from PIL import Image\n",
    "image = Image.open(filename)\n",
    "image"
   ]
  },
  {
   "cell_type": "code",
   "execution_count": null,
   "id": "6218204c",
   "metadata": {},
   "outputs": [],
   "source": []
  }
 ],
 "metadata": {
  "kernelspec": {
   "display_name": "Python 3 (ipykernel)",
   "language": "python",
   "name": "python3"
  },
  "language_info": {
   "codemirror_mode": {
    "name": "ipython",
    "version": 3
   },
   "file_extension": ".py",
   "mimetype": "text/x-python",
   "name": "python",
   "nbconvert_exporter": "python",
   "pygments_lexer": "ipython3",
   "version": "3.9.6"
  }
 },
 "nbformat": 4,
 "nbformat_minor": 5
}
